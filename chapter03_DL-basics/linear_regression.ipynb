{
 "cells": [
  {
   "cell_type": "code",
   "execution_count": 21,
   "metadata": {},
   "outputs": [],
   "source": [
    "import torch\n",
    "import torch.nn as nn\n",
    "import numpy as np\n",
    "import matplotlib.pyplot as plt"
   ]
  },
  {
   "cell_type": "code",
   "execution_count": 22,
   "metadata": {},
   "outputs": [],
   "source": [
    "input_size = 1\n",
    "output_size = 1\n",
    "num_epochs = 600\n",
    "learning_rate = 0.0001\n",
    "\n",
    "# 准备数据集\n",
    "x_train = np.array([[3.3], [4.4], [5.5], [6.71], [6.93], [4.168], \n",
    "                    [9.779], [6.182], [7.59], [2.167], [7.042], \n",
    "                    [10.791], [5.313], [7.997], [3.1]], dtype=np.float32)\n",
    "\n",
    "y_train = np.array([[1.7], [2.76], [2.09], [3.19], [1.694], [1.573], \n",
    "                    [3.366], [2.596], [2.53], [1.221], [2.827], \n",
    "                    [3.465], [1.65], [2.904], [1.3]], dtype=np.float32)\n",
    "\n",
    "# 定义网络结构 y=w*x+b 其中w的size [1,1], b的size[1,]\n",
    "model = nn.Linear(input_size, output_size)\n",
    "\n",
    "# Loss and optimizer 3.定义损失函数， 使用的是最小平方误差函数\n",
    "criterion = nn.MSELoss()\n",
    "optimizer = torch.optim.SGD(model.parameters(), lr=learning_rate)\n",
    "loss_dict = []"
   ]
  },
  {
   "cell_type": "code",
   "execution_count": 23,
   "metadata": {},
   "outputs": [
    {
     "name": "stdout",
     "output_type": "stream",
     "text": [
      "Epoch [5/600], Loss: 0.2019\n",
      "Epoch [10/600], Loss: 0.2015\n",
      "Epoch [15/600], Loss: 0.2011\n",
      "Epoch [20/600], Loss: 0.2007\n",
      "Epoch [25/600], Loss: 0.2004\n",
      "Epoch [30/600], Loss: 0.2002\n",
      "Epoch [35/600], Loss: 0.1999\n",
      "Epoch [40/600], Loss: 0.1997\n",
      "Epoch [45/600], Loss: 0.1994\n",
      "Epoch [50/600], Loss: 0.1992\n",
      "Epoch [55/600], Loss: 0.1990\n",
      "Epoch [60/600], Loss: 0.1989\n",
      "Epoch [65/600], Loss: 0.1987\n",
      "Epoch [70/600], Loss: 0.1986\n",
      "Epoch [75/600], Loss: 0.1984\n",
      "Epoch [80/600], Loss: 0.1983\n",
      "Epoch [85/600], Loss: 0.1982\n",
      "Epoch [90/600], Loss: 0.1981\n",
      "Epoch [95/600], Loss: 0.1980\n",
      "Epoch [100/600], Loss: 0.1979\n",
      "Epoch [105/600], Loss: 0.1978\n",
      "Epoch [110/600], Loss: 0.1977\n",
      "Epoch [115/600], Loss: 0.1977\n",
      "Epoch [120/600], Loss: 0.1976\n",
      "Epoch [125/600], Loss: 0.1975\n",
      "Epoch [130/600], Loss: 0.1975\n",
      "Epoch [135/600], Loss: 0.1974\n",
      "Epoch [140/600], Loss: 0.1974\n",
      "Epoch [145/600], Loss: 0.1973\n",
      "Epoch [150/600], Loss: 0.1973\n",
      "Epoch [155/600], Loss: 0.1973\n",
      "Epoch [160/600], Loss: 0.1972\n",
      "Epoch [165/600], Loss: 0.1972\n",
      "Epoch [170/600], Loss: 0.1972\n",
      "Epoch [175/600], Loss: 0.1971\n",
      "Epoch [180/600], Loss: 0.1971\n",
      "Epoch [185/600], Loss: 0.1971\n",
      "Epoch [190/600], Loss: 0.1971\n",
      "Epoch [195/600], Loss: 0.1970\n",
      "Epoch [200/600], Loss: 0.1970\n",
      "Epoch [205/600], Loss: 0.1970\n",
      "Epoch [210/600], Loss: 0.1970\n",
      "Epoch [215/600], Loss: 0.1970\n",
      "Epoch [220/600], Loss: 0.1969\n",
      "Epoch [225/600], Loss: 0.1969\n",
      "Epoch [230/600], Loss: 0.1969\n",
      "Epoch [235/600], Loss: 0.1969\n",
      "Epoch [240/600], Loss: 0.1969\n",
      "Epoch [245/600], Loss: 0.1969\n",
      "Epoch [250/600], Loss: 0.1968\n",
      "Epoch [255/600], Loss: 0.1968\n",
      "Epoch [260/600], Loss: 0.1968\n",
      "Epoch [265/600], Loss: 0.1968\n",
      "Epoch [270/600], Loss: 0.1968\n",
      "Epoch [275/600], Loss: 0.1968\n",
      "Epoch [280/600], Loss: 0.1968\n",
      "Epoch [285/600], Loss: 0.1968\n",
      "Epoch [290/600], Loss: 0.1968\n",
      "Epoch [295/600], Loss: 0.1967\n",
      "Epoch [300/600], Loss: 0.1967\n",
      "Epoch [305/600], Loss: 0.1967\n",
      "Epoch [310/600], Loss: 0.1967\n",
      "Epoch [315/600], Loss: 0.1967\n",
      "Epoch [320/600], Loss: 0.1967\n",
      "Epoch [325/600], Loss: 0.1967\n",
      "Epoch [330/600], Loss: 0.1967\n",
      "Epoch [335/600], Loss: 0.1967\n",
      "Epoch [340/600], Loss: 0.1967\n",
      "Epoch [345/600], Loss: 0.1967\n",
      "Epoch [350/600], Loss: 0.1966\n",
      "Epoch [355/600], Loss: 0.1966\n",
      "Epoch [360/600], Loss: 0.1966\n",
      "Epoch [365/600], Loss: 0.1966\n",
      "Epoch [370/600], Loss: 0.1966\n",
      "Epoch [375/600], Loss: 0.1966\n",
      "Epoch [380/600], Loss: 0.1966\n",
      "Epoch [385/600], Loss: 0.1966\n",
      "Epoch [390/600], Loss: 0.1966\n",
      "Epoch [395/600], Loss: 0.1966\n",
      "Epoch [400/600], Loss: 0.1966\n",
      "Epoch [405/600], Loss: 0.1966\n",
      "Epoch [410/600], Loss: 0.1966\n",
      "Epoch [415/600], Loss: 0.1965\n",
      "Epoch [420/600], Loss: 0.1965\n",
      "Epoch [425/600], Loss: 0.1965\n",
      "Epoch [430/600], Loss: 0.1965\n",
      "Epoch [435/600], Loss: 0.1965\n",
      "Epoch [440/600], Loss: 0.1965\n",
      "Epoch [445/600], Loss: 0.1965\n",
      "Epoch [450/600], Loss: 0.1965\n",
      "Epoch [455/600], Loss: 0.1965\n",
      "Epoch [460/600], Loss: 0.1965\n",
      "Epoch [465/600], Loss: 0.1965\n",
      "Epoch [470/600], Loss: 0.1965\n",
      "Epoch [475/600], Loss: 0.1965\n",
      "Epoch [480/600], Loss: 0.1965\n",
      "Epoch [485/600], Loss: 0.1964\n",
      "Epoch [490/600], Loss: 0.1964\n",
      "Epoch [495/600], Loss: 0.1964\n",
      "Epoch [500/600], Loss: 0.1964\n",
      "Epoch [505/600], Loss: 0.1964\n",
      "Epoch [510/600], Loss: 0.1964\n",
      "Epoch [515/600], Loss: 0.1964\n",
      "Epoch [520/600], Loss: 0.1964\n",
      "Epoch [525/600], Loss: 0.1964\n",
      "Epoch [530/600], Loss: 0.1964\n",
      "Epoch [535/600], Loss: 0.1964\n",
      "Epoch [540/600], Loss: 0.1964\n",
      "Epoch [545/600], Loss: 0.1964\n",
      "Epoch [550/600], Loss: 0.1964\n",
      "Epoch [555/600], Loss: 0.1963\n",
      "Epoch [560/600], Loss: 0.1963\n",
      "Epoch [565/600], Loss: 0.1963\n",
      "Epoch [570/600], Loss: 0.1963\n",
      "Epoch [575/600], Loss: 0.1963\n",
      "Epoch [580/600], Loss: 0.1963\n",
      "Epoch [585/600], Loss: 0.1963\n",
      "Epoch [590/600], Loss: 0.1963\n",
      "Epoch [595/600], Loss: 0.1963\n",
      "Epoch [600/600], Loss: 0.1963\n"
     ]
    }
   ],
   "source": [
    "# 训练\n",
    "\n",
    "for epoch in range(num_epochs):\n",
    "    # Convert numpy arrays to torch tensors  5.1 准备tensor的训练数据和标签\n",
    "    inputs = torch.from_numpy(x_train)\n",
    "    targets = torch.from_numpy(y_train)\n",
    "    \n",
    "    # 前向传播\n",
    "    outputs = model(inputs)\n",
    "    \n",
    "    # 计算损失\n",
    "    loss = criterion(outputs, targets)\n",
    "    \n",
    "    # 反向传播，及参数的优化\n",
    "    optimizer.zero_grad()\n",
    "    loss.backward()\n",
    "    optimizer.step()\n",
    "    \n",
    "    # 打印信息\n",
    "    loss_dict.append(loss.item())\n",
    "    if (epoch+1) % 5 == 0:\n",
    "        print('Epoch [{}/{}], Loss: {:.4f}'.format(epoch+1, num_epochs, loss.item()))"
   ]
  },
  {
   "cell_type": "code",
   "execution_count": 24,
   "metadata": {},
   "outputs": [
    {
     "data": {
      "image/png": "[encoded data removed]",
      "text/plain": [
       "<Figure size 432x288 with 1 Axes>"
      ]
     },
     "metadata": {
      "needs_background": "light"
     },
     "output_type": "display_data"
    }
   ],
   "source": [
    "predicted = model(torch.from_numpy(x_train)).detach().numpy()\n",
    "plt.plot(x_train, y_train, 'ro', label='Original data')\n",
    "plt.plot(x_train, predicted, label='Fitted line')\n",
    "plt.legend()\n",
    "plt.show()"
   ]
  },
  {
   "cell_type": "code",
   "execution_count": 25,
   "metadata": {},
   "outputs": [
    {
     "data": {
      "image/png": "[encoded data removed]",
      "text/plain": [
       "<Figure size 432x288 with 1 Axes>"
      ]
     },
     "metadata": {
      "needs_background": "light"
     },
     "output_type": "display_data"
    }
   ],
   "source": [
    "# 画loss在迭代过程中的变化情况\n",
    "plt.plot(loss_dict, label='loss for every epoch')\n",
    "plt.legend()\n",
    "plt.show()"
   ]
  },
  {
   "cell_type": "code",
   "execution_count": null,
   "metadata": {},
   "outputs": [],
   "source": []
  }
 ],
 "metadata": {
  "kernelspec": {
   "display_name": "pyt",
   "language": "python",
   "name": "pyt"
  },
  "language_info": {
   "codemirror_mode": {
    "name": "ipython",
    "version": 3
   },
   "file_extension": ".py",
   "mimetype": "text/x-python",
   "name": "python",
   "nbconvert_exporter": "python",
   "pygments_lexer": "ipython3",
   "version": "3.6.7"
  },
  "toc": {
   "base_numbering": 1,
   "nav_menu": {},
   "number_sections": true,
   "sideBar": true,
   "skip_h1_title": false,
   "title_cell": "Table of Contents",
   "title_sidebar": "Contents",
   "toc_cell": false,
   "toc_position": {},
   "toc_section_display": true,
   "toc_window_display": false
  }
 },
 "nbformat": 4,
 "nbformat_minor": 4
}
